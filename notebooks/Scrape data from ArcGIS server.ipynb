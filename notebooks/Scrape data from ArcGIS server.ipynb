{
 "cells": [
  {
   "cell_type": "markdown",
   "metadata": {
    "id": "GDE5MhxVt7uC"
   },
   "source": [
    "# Scrape a GIS file of South Dakota roadkill\n",
    "\n",
    "We want to get the GIS data behind [this map of wildlife roadkill reported in South Dakota](https://experience.arcgis.com/experience/58b6d830b554429b84468e9b0feb947a/) and load it into a geodataframe. To do that, we're going to use [a Python library called `esridump`](https://pypi.org/project/esridump/) to fetch the GIS data from an ESRI server and return it as a list of geojson features.\n",
    "\n",
    "First, we need to find the URL of the actual ESRI server hosting the data. Here's how to do that.\n",
    "\n",
    "Navigate to the map page and open your browser's network inspection tools:\n",
    "- Chrome: View > Developer > Developer Tools\n",
    "- Firefox: Tools > Browser Tools > Web Developer Tools\n",
    "\n",
    "The keyboard shortcut for both should be Command + Option + I (on a Mac) or Control + Option + I (on a PC).\n",
    "\n",
    "In the developer console, flip over to the `Network` tab. Reload the page and watch the requests sent to the target server. Look for a request to a URL that includes the word `query` (there will be several).\n",
    "\n",
    "Select that network request from the list and look at the `Headers` section, which will show you the URL to which the browser just sent a `GET` request. Mine looks like this:\n",
    "\n",
    "```\n",
    "https://services1.arcgis.com/PwrabBhZHUggYYSp/arcgis/rest/services/survey123_2fa2f046e8e0422fb99f2836d19beb52_stakeholder/FeatureServer/1/query?f=pbf&maxRecordCountFactor=4&resultOffset=32000&resultRecordCount=4000&where=(Latitude IS NOT NULL) AND (Species <> 'No Pick-Up') AND (Found = 'Yes')&orderByFields=objectid&outFields=objectid&outSR=102100&spatialRel=esriSpatialRelIntersects\n",
    "```\n",
    "\n",
    "We don't want the whole URL, just the part before `query`:\n",
    "\n",
    "```\n",
    "https://services1.arcgis.com/PwrabBhZHUggYYSp/arcgis/rest/services/survey123_2fa2f046e8e0422fb99f2836d19beb52_stakeholder/FeatureServer/1/\n",
    "```\n",
    "\n",
    "[Navigate to that URL](https://services1.arcgis.com/PwrabBhZHUggYYSp/arcgis/rest/services/survey123_2fa2f046e8e0422fb99f2836d19beb52_stakeholder/FeatureServer/1/) and you'll see the underlying ESRI server. This is the URL we'll hand off to the `esridump` tool."
   ]
  },
  {
   "cell_type": "code",
   "execution_count": null,
   "metadata": {
    "id": "xt-XhcZounQS"
   },
   "outputs": [],
   "source": [
    "from esridump.dumper import EsriDumper\n",
    "import geopandas as gpd"
   ]
  },
  {
   "cell_type": "code",
   "execution_count": null,
   "metadata": {
    "id": "U5TDfaU6z5tw"
   },
   "outputs": [],
   "source": [
    "target_url = 'https://services1.arcgis.com/PwrabBhZHUggYYSp/arcgis/rest/services/survey123_2fa2f046e8e0422fb99f2836d19beb52_stakeholder/FeatureServer/1/'\n",
    "\n",
    "# grab the list of features as a list\n",
    "feature_data = list(EsriDumper(target_url))"
   ]
  },
  {
   "cell_type": "code",
   "execution_count": null,
   "metadata": {
    "colab": {
     "base_uri": "https://localhost:8080/"
    },
    "id": "Sj45ZpZf0Dko",
    "outputId": "a392832b-a962-4f5e-a4f6-8db23082d850"
   },
   "outputs": [],
   "source": [
    "# print a message to let us know how we did\n",
    "print(f'Fetched {len(feature_data):,} features.')"
   ]
  },
  {
   "cell_type": "code",
   "execution_count": null,
   "metadata": {
    "id": "UVybL5OZupEQ"
   },
   "outputs": [],
   "source": [
    "# build a valid geojson object with the data\n",
    "# https://geojson.org/\n",
    "geojson = {\n",
    "    'type': 'FeatureCollection',\n",
    "    'features': feature_data\n",
    "}"
   ]
  },
  {
   "cell_type": "code",
   "execution_count": null,
   "metadata": {
    "id": "4Oc_TemY0onb"
   },
   "outputs": [],
   "source": [
    "gdf = gpd.GeoDataFrame.from_features(geojson)"
   ]
  },
  {
   "cell_type": "code",
   "execution_count": null,
   "metadata": {
    "colab": {
     "base_uri": "https://localhost:8080/",
     "height": 380
    },
    "id": "W8oYBp6K1GQm",
    "outputId": "46601868-bf1e-439b-b18a-ae04a7a7da9d"
   },
   "outputs": [],
   "source": [
    "gdf.head()"
   ]
  },
  {
   "cell_type": "code",
   "execution_count": null,
   "metadata": {
    "colab": {
     "base_uri": "https://localhost:8080/",
     "height": 304
    },
    "id": "fuAxTltb1Hc_",
    "outputId": "70bd1adf-57fd-4311-e048-62f48e30411f"
   },
   "outputs": [],
   "source": [
    "gdf.plot()"
   ]
  },
  {
   "cell_type": "code",
   "execution_count": null,
   "metadata": {},
   "outputs": [],
   "source": [
    "gdf.to_file('south-dakota-roadkill.geojson', driver='GeoJSON')"
   ]
  }
 ],
 "metadata": {
  "colab": {
   "provenance": []
  },
  "kernelspec": {
   "display_name": "Python 3 (ipykernel)",
   "language": "python",
   "name": "python3"
  },
  "language_info": {
   "codemirror_mode": {
    "name": "ipython",
    "version": 3
   },
   "file_extension": ".py",
   "mimetype": "text/x-python",
   "name": "python",
   "nbconvert_exporter": "python",
   "pygments_lexer": "ipython3",
   "version": "3.13.2"
  }
 },
 "nbformat": 4,
 "nbformat_minor": 4
}
